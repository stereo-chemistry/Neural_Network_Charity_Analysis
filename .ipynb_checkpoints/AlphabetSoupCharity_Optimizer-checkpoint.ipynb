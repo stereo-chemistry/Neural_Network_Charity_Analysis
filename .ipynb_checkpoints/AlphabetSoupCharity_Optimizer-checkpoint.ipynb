{
 "cells": [
  {
   "cell_type": "code",
   "execution_count": null,
   "id": "3340e2fe",
   "metadata": {},
   "outputs": [],
   "source": [
    "# Import our dependencies\n",
    "from sklearn.model_selection import train_test_split\n",
    "from sklearn.preprocessing import StandardScaler,OneHotEncoder\n",
    "import pandas as pd\n",
    "import tensorflow as tf\n",
    "import os\n",
    "from tensorflow.keras.callbacks import ModelCheckpoint\n",
    "\n",
    "#  Import and read the charity_data.csv.\n",
    "import pandas as pd \n",
    "application_df = pd.read_csv(\"data/charity_data.csv\")\n",
    "application_df.head()"
   ]
  },
  {
   "cell_type": "code",
   "execution_count": null,
   "id": "948d22ef",
   "metadata": {},
   "outputs": [],
   "source": [
    "application_columns = application_df.columns.tolist()\n",
    "application_df[application_columns].nunique()"
   ]
  },
  {
   "cell_type": "code",
   "execution_count": null,
   "id": "3d40874a",
   "metadata": {},
   "outputs": [],
   "source": [
    "application_df['APPLICATION_TYPE'].value_counts"
   ]
  },
  {
   "cell_type": "code",
   "execution_count": null,
   "id": "70eb6cf3",
   "metadata": {},
   "outputs": [],
   "source": [
    "application_df['AFFILIATION'].value_counts()"
   ]
  },
  {
   "cell_type": "code",
   "execution_count": null,
   "id": "d2ec3696",
   "metadata": {},
   "outputs": [],
   "source": [
    "application_df['CLASSIFICATION'].value_counts()"
   ]
  },
  {
   "cell_type": "code",
   "execution_count": null,
   "id": "e24d1136",
   "metadata": {},
   "outputs": [],
   "source": [
    "application_df['USE_CASE'].value_counts()"
   ]
  },
  {
   "cell_type": "code",
   "execution_count": null,
   "id": "d5aaa10f",
   "metadata": {},
   "outputs": [],
   "source": [
    "application_df['ORGANIZATION'].value_counts()"
   ]
  },
  {
   "cell_type": "code",
   "execution_count": null,
   "id": "502bfd70",
   "metadata": {},
   "outputs": [],
   "source": [
    "application_df['STATUS'].value_counts()"
   ]
  },
  {
   "cell_type": "code",
   "execution_count": null,
   "id": "9fc9e3a2",
   "metadata": {},
   "outputs": [],
   "source": [
    "application_df['INCOME_AMT'].value_counts()"
   ]
  },
  {
   "cell_type": "code",
   "execution_count": null,
   "id": "d51619b0",
   "metadata": {},
   "outputs": [],
   "source": [
    "application_df['SPECIAL_CONSIDERATIONS'].value_counts()"
   ]
  },
  {
   "cell_type": "code",
   "execution_count": null,
   "id": "33bce9e5",
   "metadata": {},
   "outputs": [],
   "source": [
    "application_df['ASK_AMT'].value_counts()"
   ]
  },
  {
   "cell_type": "code",
   "execution_count": null,
   "id": "6704b9f0",
   "metadata": {},
   "outputs": [],
   "source": [
    "application_df.drop(columns=['EIN', 'NAME', 'STATUS', 'INCOME_AMT'], inplace=True)\n",
    "application_df.head()"
   ]
  },
  {
   "cell_type": "code",
   "execution_count": null,
   "id": "2927792b",
   "metadata": {},
   "outputs": [],
   "source": [
    "# There are a lot of different ASK_AMT values\n",
    "application_amt_counts = application_df['ASK_AMT'].value_counts()\n",
    "application_amt_counts"
   ]
  },
  {
   "cell_type": "code",
   "execution_count": null,
   "id": "6dd3f768",
   "metadata": {},
   "outputs": [],
   "source": [
    "# Overwhelming majority of ASK_AMT values = 5000\n",
    "application_amt_counts.plot.density()"
   ]
  },
  {
   "cell_type": "code",
   "execution_count": null,
   "id": "4af96f31",
   "metadata": {},
   "outputs": [],
   "source": [
    "# How many ASK_AMT values less than 5000?\n",
    "len(application_df.loc[application_df['ASK_AMT'] < 5000])"
   ]
  },
  {
   "cell_type": "code",
   "execution_count": null,
   "id": "20d7d10e",
   "metadata": {},
   "outputs": [],
   "source": [
    "# How many ASK_AMT values greater than 5000?\n",
    "len(application_df.loc[application_df['ASK_AMT'] > 5000])"
   ]
  },
  {
   "cell_type": "code",
   "execution_count": null,
   "id": "2ee7fb4f",
   "metadata": {},
   "outputs": [],
   "source": [
    "# How many ASK_AMT values greater than 10000?\n",
    "len(application_df.loc[application_df['ASK_AMT'] > 10000])"
   ]
  },
  {
   "cell_type": "code",
   "execution_count": null,
   "id": "002dce6b",
   "metadata": {},
   "outputs": [],
   "source": [
    "# 50000?\n",
    "len(application_df.loc[application_df['ASK_AMT'] > 20000])"
   ]
  },
  {
   "cell_type": "code",
   "execution_count": null,
   "id": "27e22178",
   "metadata": {},
   "outputs": [],
   "source": [
    "# 100000\n",
    "len(application_df.loc[application_df['ASK_AMT'] > 100000])"
   ]
  },
  {
   "cell_type": "code",
   "execution_count": null,
   "id": "d57a4c50",
   "metadata": {},
   "outputs": [],
   "source": [
    "len(application_df.loc[application_df['ASK_AMT'] > 1000000])"
   ]
  },
  {
   "cell_type": "code",
   "execution_count": null,
   "id": "6c749493",
   "metadata": {},
   "outputs": [],
   "source": [
    "# Try grouping all ASK_AMT values > 5000 into one bucket and values = 5000 in another bucket\n",
    "application_df['ASK_AMT'][application_df['ASK_AMT'] > 5000] = 'MORE_THAN_5000'\n",
    "application_df['ASK_AMT'] = application_df['ASK_AMT'].apply(str)\n",
    "# Check it\n",
    "print(application_df['ASK_AMT'].dtypes)\n",
    "application_df['ASK_AMT'].value_counts()"
   ]
  },
  {
   "cell_type": "code",
   "execution_count": null,
   "id": "1a42cabd",
   "metadata": {},
   "outputs": [],
   "source": [
    "# These are an object now. Include in OneHotEncoder run\n",
    "application_df.dtypes"
   ]
  },
  {
   "cell_type": "code",
   "execution_count": null,
   "id": "6b48cf11",
   "metadata": {},
   "outputs": [],
   "source": [
    "# APPLICATION_TYPE value counts\n",
    "application_type_counts = application_df['APPLICATION_TYPE'].value_counts()\n",
    "application_type_counts"
   ]
  },
  {
   "cell_type": "code",
   "execution_count": null,
   "id": "2516b1d1",
   "metadata": {},
   "outputs": [],
   "source": [
    "application_type_counts.plot.density()"
   ]
  },
  {
   "cell_type": "code",
   "execution_count": null,
   "id": "bd6d00cc",
   "metadata": {},
   "outputs": [],
   "source": [
    "# Determine which values to replace if counts are less than ...?\n",
    "replace_application = list(application_type_counts[application_type_counts < 1000].index)\n",
    "# Replace in dataframe\n",
    "for app in replace_application:\n",
    "    application_df.APPLICATION_TYPE = application_df.APPLICATION_TYPE.replace(app,\"Other\")\n",
    "    \n",
    "# Check to make sure binning was successful\n",
    "application_df.APPLICATION_TYPE.value_counts()"
   ]
  },
  {
   "cell_type": "code",
   "execution_count": null,
   "id": "0e52a45a",
   "metadata": {},
   "outputs": [],
   "source": [
    "# Look at CLASSIFICATION value counts for binning\n",
    "classification_counts = application_df['CLASSIFICATION'].value_counts()\n",
    "classification_counts"
   ]
  },
  {
   "cell_type": "code",
   "execution_count": null,
   "id": "5df29ecc",
   "metadata": {},
   "outputs": [],
   "source": [
    "classification_counts.plot.density()"
   ]
  },
  {
   "cell_type": "code",
   "execution_count": null,
   "id": "51b725ab",
   "metadata": {},
   "outputs": [],
   "source": [
    "# Determine which values to replace if counts are less than ..?\n",
    "replace_class = list(classification_counts[classification_counts < 1000].index)\n",
    "\n",
    "# Replace in dataframe\n",
    "for cls in replace_class:\n",
    "    application_df.CLASSIFICATION = application_df.CLASSIFICATION.replace(cls,\"Other\")\n",
    "    \n",
    "# Check to make sure binning was successful\n",
    "application_df.CLASSIFICATION.value_counts()"
   ]
  },
  {
   "cell_type": "code",
   "execution_count": null,
   "id": "f3833f67",
   "metadata": {},
   "outputs": [],
   "source": [
    "# Generate our categorical variable lists\n",
    "application_cats = application_df.dtypes[application_df.dtypes == 'object'].index.tolist()\n",
    "application_cats"
   ]
  },
  {
   "cell_type": "code",
   "execution_count": null,
   "id": "d6c11329",
   "metadata": {},
   "outputs": [],
   "source": [
    "# Create a OneHotEncoder instance\n",
    "enc = OneHotEncoder(sparse=False)\n",
    "\n",
    "# Fit and transform the OneHotEncoder using the categorical variable list\n",
    "encode_df = pd.DataFrame(enc.fit_transform(application_df[application_cats]))\n",
    "\n",
    "# Add the encoded variable names to the dataframe\n",
    "encode_df.columns = enc.get_feature_names(application_cats)\n",
    "encode_df.head()"
   ]
  },
  {
   "cell_type": "code",
   "execution_count": null,
   "id": "15b9058b",
   "metadata": {},
   "outputs": [],
   "source": [
    "# Merge one-hot encoded features and drop the originals\n",
    "application_df = application_df.merge(encode_df, left_index=True, right_index=True).drop(application_cats, 1)\n",
    "application_df.head()"
   ]
  },
  {
   "cell_type": "code",
   "execution_count": null,
   "id": "3121e36c",
   "metadata": {},
   "outputs": [],
   "source": [
    "# Split our preprocessed data into our features and target arrays\n",
    "y = application_df['IS_SUCCESSFUL'].values\n",
    "X = application_df.drop(['IS_SUCCESSFUL'], 1).values\n",
    "\n",
    "# Split the preprocessed data into a training and testing dataset\n",
    "X_train, X_test, y_train, y_test = train_test_split(X, y, random_state=2)"
   ]
  },
  {
   "cell_type": "code",
   "execution_count": null,
   "id": "a939f61b",
   "metadata": {},
   "outputs": [],
   "source": [
    "# Create a StandardScaler instances\n",
    "scaler = StandardScaler()\n",
    "\n",
    "# Fit the StandardScaler\n",
    "X_scaler = scaler.fit(X_train)\n",
    "\n",
    "# Scale the data\n",
    "X_train_scaled = X_scaler.transform(X_train)\n",
    "X_test_scaled = X_scaler.transform(X_test)"
   ]
  },
  {
   "cell_type": "code",
   "execution_count": null,
   "id": "16818594",
   "metadata": {},
   "outputs": [],
   "source": [
    "# Define the model - deep neural net, i.e., the number of input features and hidden nodes for each layer.\n",
    "\n",
    "nn = tf.keras.models.Sequential()\n",
    "\n",
    "\n",
    "# First hidden layer\n",
    "nn.add(tf.keras.layers.Dense(units=(len(X_train_scaled[0]))*(6/9), input_dim=len(X_train_scaled[0]), activation='selu'))\n",
    "\n",
    "# Second hidden layer\n",
    "nn.add(tf.keras.layers.Dense(units=(len(X_train_scaled[0]))*(3/9), activation='selu'))\n",
    "\n",
    "# Third hidden layer\n",
    "# nn.add(tf.keras.layers.Dense(units=(len(X_train_scaled[0]))*(2/9), activation='selu'))\n",
    "\n",
    "# Output layer\n",
    "nn.add(tf.keras.layers.Dense(units=1, activation='sigmoid'))\n",
    "\n",
    "# Check the structure of the model\n",
    "nn.summary()"
   ]
  },
  {
   "cell_type": "code",
   "execution_count": null,
   "id": "6ac6f2b2",
   "metadata": {},
   "outputs": [],
   "source": [
    "# Compile the model\n",
    "nn.compile(loss='binary_crossentropy', optimizer='adam', metrics=['accuracy'])"
   ]
  },
  {
   "cell_type": "code",
   "execution_count": null,
   "id": "6efd9a22",
   "metadata": {},
   "outputs": [],
   "source": [
    "# Train the model\n",
    "fit_model = nn.fit(X_train_scaled, y_train, epochs=100)"
   ]
  },
  {
   "cell_type": "code",
   "execution_count": null,
   "id": "afa0d5a0",
   "metadata": {},
   "outputs": [],
   "source": [
    "# Evaluate the model using the test data\n",
    "model_loss, model_accuracy = nn.evaluate(X_test_scaled,y_test,verbose=2)\n",
    "print(f\"Loss: {model_loss}, Accuracy: {model_accuracy}\")"
   ]
  }
 ],
 "metadata": {
  "kernelspec": {
   "display_name": "mlenv",
   "language": "python",
   "name": "mlenv"
  },
  "language_info": {
   "codemirror_mode": {
    "name": "ipython",
    "version": 3
   },
   "file_extension": ".py",
   "mimetype": "text/x-python",
   "name": "python",
   "nbconvert_exporter": "python",
   "pygments_lexer": "ipython3",
   "version": "3.7.11"
  }
 },
 "nbformat": 4,
 "nbformat_minor": 5
}
